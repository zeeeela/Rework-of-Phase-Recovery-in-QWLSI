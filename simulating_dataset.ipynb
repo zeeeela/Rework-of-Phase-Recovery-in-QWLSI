{
  "cells": [
    {
      "cell_type": "markdown",
      "id": "d60fe2e8",
      "metadata": {
        "colab_type": "text",
        "id": "view-in-github"
      },
      "source": [
        "<a href=\"https://colab.research.google.com/github/zeeeela/Rework-of-Phase-Recovery-in-QWLSI/blob/main/simulating_dataset.ipynb\" target=\"_parent\"><img src=\"https://colab.research.google.com/assets/colab-badge.svg\" alt=\"Open In Colab\"/></a>"
      ]
    },
    {
      "cell_type": "markdown",
      "id": "1a5894c4",
      "metadata": {
        "id": "1a5894c4"
      },
      "source": [
        "#Move to Colab"
      ]
    },
    {
      "cell_type": "code",
      "execution_count": 6,
      "id": "1eLFtHSehvxQ",
      "metadata": {
        "colab": {
          "base_uri": "https://localhost:8080/"
        },
        "id": "1eLFtHSehvxQ",
        "outputId": "5976ffb1-848f-43ae-ae97-6ba77c81a3d1"
      },
      "outputs": [
        {
          "name": "stdout",
          "output_type": "stream",
          "text": [
            "Cloning into 'Rework-of-Phase-Recovery-in-QWLSI'...\n",
            "remote: Enumerating objects: 24, done.\u001b[K\n",
            "remote: Counting objects: 100% (24/24), done.\u001b[K\n",
            "remote: Compressing objects: 100% (19/19), done.\u001b[K\n",
            "remote: Total 24 (delta 3), reused 20 (delta 2), pack-reused 0 (from 0)\u001b[K\n",
            "Receiving objects: 100% (24/24), 8.75 KiB | 8.75 MiB/s, done.\n",
            "Resolving deltas: 100% (3/3), done.\n"
          ]
        }
      ],
      "source": [
        "!git clone https://github.com/zeeeela/Rework-of-Phase-Recovery-in-QWLSI.git"
      ]
    },
    {
      "cell_type": "code",
      "execution_count": 7,
      "id": "gSt5go3bgx-3",
      "metadata": {
        "colab": {
          "base_uri": "https://localhost:8080/"
        },
        "id": "gSt5go3bgx-3",
        "outputId": "b118a0fa-4dfe-4ade-f4a8-49c5daaa455f"
      },
      "outputs": [
        {
          "name": "stdout",
          "output_type": "stream",
          "text": [
            "/content/Rework-of-Phase-Recovery-in-QWLSI\n"
          ]
        }
      ],
      "source": [
        "%cd /content/Rework-of-Phase-Recovery-in-QWLSI"
      ]
    },
    {
      "cell_type": "code",
      "execution_count": 8,
      "id": "1juLgcQ9hnwp",
      "metadata": {
        "colab": {
          "base_uri": "https://localhost:8080/"
        },
        "id": "1juLgcQ9hnwp",
        "outputId": "a16c1e2b-56f6-4e3e-c369-df941e4d1dba"
      },
      "outputs": [
        {
          "name": "stdout",
          "output_type": "stream",
          "text": [
            "Requirement already satisfied: ml-collections in /usr/local/lib/python3.12/dist-packages (1.1.0)\n",
            "Requirement already satisfied: absl-py in /usr/local/lib/python3.12/dist-packages (from ml-collections) (1.4.0)\n",
            "Requirement already satisfied: PyYAML in /usr/local/lib/python3.12/dist-packages (from ml-collections) (6.0.3)\n"
          ]
        }
      ],
      "source": [
        "!pip install ml-collections"
      ]
    },
    {
      "cell_type": "code",
      "execution_count": 9,
      "id": "0IXE9gV0hRgW",
      "metadata": {
        "id": "0IXE9gV0hRgW"
      },
      "outputs": [],
      "source": [
        "import sys\n",
        "sys.path.append('/content/drive/MyDrive/Rework-of-Phase-Recovery-in-QWLSI')"
      ]
    },
    {
      "cell_type": "code",
      "execution_count": 10,
      "id": "lJOtOOxkhR8J",
      "metadata": {
        "id": "lJOtOOxkhR8J"
      },
      "outputs": [],
      "source": [
        "from dataset.qwlsi_simulation import forward_model\n",
        "from config.config import get_config"
      ]
    },
    {
      "cell_type": "code",
      "execution_count": 11,
      "id": "JNImvnp8WV--",
      "metadata": {
        "colab": {
          "base_uri": "https://localhost:8080/"
        },
        "id": "JNImvnp8WV--",
        "outputId": "6e389642-173d-4918-9dce-1685162ab826"
      },
      "outputs": [
        {
          "name": "stdout",
          "output_type": "stream",
          "text": [
            "Mounted at /content/drive\n"
          ]
        }
      ],
      "source": [
        "from google.colab import drive\n",
        "drive.mount('/content/drive')"
      ]
    },
    {
      "cell_type": "code",
      "execution_count": 12,
      "id": "JqtEAbbNYFlO",
      "metadata": {
        "id": "JqtEAbbNYFlO"
      },
      "outputs": [],
      "source": [
        "import torchvision.datasets\n",
        "import torchvision.transforms as transforms\n",
        "from torchvision import datasets\n",
        "import torch\n",
        "import numpy as np\n",
        "from PIL import Image\n",
        "import os"
      ]
    },
    {
      "cell_type": "code",
      "execution_count": 13,
      "id": "8G6m3yVWYUPd",
      "metadata": {
        "id": "8G6m3yVWYUPd"
      },
      "outputs": [],
      "source": [
        "ori_path = '/content/drive/MyDrive/dataset/original'"
      ]
    },
    {
      "cell_type": "code",
      "execution_count": 14,
      "id": "1H6uqslcax9G",
      "metadata": {
        "id": "1H6uqslcax9G"
      },
      "outputs": [],
      "source": [
        "save_path = '/content/drive/MyDrive/dataset/simulated'\n",
        "os.makedirs(save_path, exist_ok=True)"
      ]
    },
    {
      "cell_type": "code",
      "execution_count": 15,
      "id": "85a3hWIMYaDA",
      "metadata": {
        "id": "85a3hWIMYaDA"
      },
      "outputs": [],
      "source": [
        "transform = transforms.Compose([ transforms.Resize((96, 96)), transforms.ToTensor() ])"
      ]
    },
    {
      "cell_type": "code",
      "execution_count": null,
      "id": "eP_h3S7DYD5n",
      "metadata": {
        "id": "eP_h3S7DYD5n"
      },
      "outputs": [],
      "source": [
        "stl10 = datasets.STL10(root=ori_path, split='train', download=True, transform=transform)"
      ]
    },
    {
      "cell_type": "code",
      "execution_count": 17,
      "id": "FfEUfd00Z28t",
      "metadata": {
        "id": "FfEUfd00Z28t"
      },
      "outputs": [],
      "source": [
        "subset_size = 200"
      ]
    },
    {
      "cell_type": "code",
      "execution_count": null,
      "id": "nSUmES6JY8ZL",
      "metadata": {
        "id": "nSUmES6JY8ZL"
      },
      "outputs": [],
      "source": [
        "config = get_config()\n",
        "\n",
        "for i in range(subset_size):\n",
        "    img_tensor = stl10[i][0]\n",
        "    img_pil = transforms.ToPILImage()(img_tensor)\n",
        "\n",
        "\n",
        "    temp_file = os.path.join(ori_path, f\"stl10_{i:03d}.png\")\n",
        "    img_pil.save(temp_file)\n",
        "\n",
        "    #Call simulation\n",
        "    simulated_img = forward_model(temp_file, config)\n",
        "\n",
        "    #Convert output and save to Drive\n",
        "    if isinstance(simulated_img, np.ndarray):\n",
        "        simulated_img = Image.fromarray((simulated_img * 255).astype(np.uint8))\n",
        "\n",
        "    save_file = os.path.join(save_path, f\"qwlsi_sim_{i:03d}.png\")\n",
        "    simulated_img.save(save_file)\n",
        "\n",
        "    if i % 20 == 0:\n",
        "        print(f\"{i+1}/{subset_size} images saved\")\n"
      ]
    }
  ],
  "metadata": {
    "colab": {
      "include_colab_link": true,
      "provenance": []
    },
    "kernelspec": {
      "display_name": "Python 3",
      "name": "python3"
    },
    "language_info": {
      "name": "python"
    }
  },
  "nbformat": 4,
  "nbformat_minor": 5
}
