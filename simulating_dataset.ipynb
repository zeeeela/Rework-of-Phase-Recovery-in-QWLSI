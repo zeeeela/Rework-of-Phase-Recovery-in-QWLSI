{
  "cells": [
    {
      "cell_type": "markdown",
      "metadata": {
        "id": "view-in-github",
        "colab_type": "text"
      },
      "source": [
        "<a href=\"https://colab.research.google.com/github/zeeeela/Rework-of-Phase-Recovery-in-QWLSI/blob/main/simulating_dataset.ipynb\" target=\"_parent\"><img src=\"https://colab.research.google.com/assets/colab-badge.svg\" alt=\"Open In Colab\"/></a>"
      ]
    },
    {
      "cell_type": "markdown",
      "id": "1a5894c4",
      "metadata": {
        "id": "1a5894c4"
      },
      "source": [
        "#Move to Colab"
      ]
    },
    {
      "cell_type": "code",
      "source": [
        "!git clone https://github.com/zeeeela/Rework-of-Phase-Recovery-in-QWLSI.git"
      ],
      "metadata": {
        "colab": {
          "base_uri": "https://localhost:8080/"
        },
        "id": "1eLFtHSehvxQ",
        "outputId": "5976ffb1-848f-43ae-ae97-6ba77c81a3d1"
      },
      "id": "1eLFtHSehvxQ",
      "execution_count": 6,
      "outputs": [
        {
          "output_type": "stream",
          "name": "stdout",
          "text": [
            "Cloning into 'Rework-of-Phase-Recovery-in-QWLSI'...\n",
            "remote: Enumerating objects: 24, done.\u001b[K\n",
            "remote: Counting objects: 100% (24/24), done.\u001b[K\n",
            "remote: Compressing objects: 100% (19/19), done.\u001b[K\n",
            "remote: Total 24 (delta 3), reused 20 (delta 2), pack-reused 0 (from 0)\u001b[K\n",
            "Receiving objects: 100% (24/24), 8.75 KiB | 8.75 MiB/s, done.\n",
            "Resolving deltas: 100% (3/3), done.\n"
          ]
        }
      ]
    },
    {
      "cell_type": "code",
      "source": [
        "%cd /content/Rework-of-Phase-Recovery-in-QWLSI"
      ],
      "metadata": {
        "colab": {
          "base_uri": "https://localhost:8080/"
        },
        "id": "gSt5go3bgx-3",
        "outputId": "b118a0fa-4dfe-4ade-f4a8-49c5daaa455f"
      },
      "id": "gSt5go3bgx-3",
      "execution_count": 7,
      "outputs": [
        {
          "output_type": "stream",
          "name": "stdout",
          "text": [
            "/content/Rework-of-Phase-Recovery-in-QWLSI\n"
          ]
        }
      ]
    },
    {
      "cell_type": "code",
      "source": [
        "!pip install ml-collections"
      ],
      "metadata": {
        "colab": {
          "base_uri": "https://localhost:8080/"
        },
        "id": "1juLgcQ9hnwp",
        "outputId": "a16c1e2b-56f6-4e3e-c369-df941e4d1dba"
      },
      "id": "1juLgcQ9hnwp",
      "execution_count": 8,
      "outputs": [
        {
          "output_type": "stream",
          "name": "stdout",
          "text": [
            "Requirement already satisfied: ml-collections in /usr/local/lib/python3.12/dist-packages (1.1.0)\n",
            "Requirement already satisfied: absl-py in /usr/local/lib/python3.12/dist-packages (from ml-collections) (1.4.0)\n",
            "Requirement already satisfied: PyYAML in /usr/local/lib/python3.12/dist-packages (from ml-collections) (6.0.3)\n"
          ]
        }
      ]
    },
    {
      "cell_type": "code",
      "source": [
        "import sys\n",
        "sys.path.append('/content/drive/MyDrive/Rework-of-Phase-Recovery-in-QWLSI')"
      ],
      "metadata": {
        "id": "0IXE9gV0hRgW"
      },
      "id": "0IXE9gV0hRgW",
      "execution_count": 9,
      "outputs": []
    },
    {
      "cell_type": "code",
      "source": [
        "from dataset.qwlsi_simulation import forward_model\n",
        "from config.config import get_config"
      ],
      "metadata": {
        "id": "lJOtOOxkhR8J"
      },
      "id": "lJOtOOxkhR8J",
      "execution_count": 10,
      "outputs": []
    },
    {
      "cell_type": "code",
      "source": [
        "from google.colab import drive\n",
        "drive.mount('/content/drive')"
      ],
      "metadata": {
        "colab": {
          "base_uri": "https://localhost:8080/"
        },
        "id": "JNImvnp8WV--",
        "outputId": "6e389642-173d-4918-9dce-1685162ab826"
      },
      "execution_count": 11,
      "outputs": [
        {
          "output_type": "stream",
          "name": "stdout",
          "text": [
            "Mounted at /content/drive\n"
          ]
        }
      ],
      "id": "JNImvnp8WV--"
    },
    {
      "cell_type": "code",
      "source": [
        "import torchvision.datasets\n",
        "import torchvision.transforms as transforms\n",
        "from torchvision import datasets\n",
        "import torch\n",
        "import numpy as np\n",
        "from PIL import Image\n",
        "import os"
      ],
      "metadata": {
        "id": "JqtEAbbNYFlO"
      },
      "execution_count": 12,
      "outputs": [],
      "id": "JqtEAbbNYFlO"
    },
    {
      "cell_type": "code",
      "source": [
        "ori_path = '/content/drive/MyDrive/dataset/original'"
      ],
      "metadata": {
        "id": "8G6m3yVWYUPd"
      },
      "execution_count": 13,
      "outputs": [],
      "id": "8G6m3yVWYUPd"
    },
    {
      "cell_type": "code",
      "source": [
        "save_path = '/content/drive/MyDrive/dataset/simulated'\n",
        "os.makedirs(save_path, exist_ok=True)"
      ],
      "metadata": {
        "id": "1H6uqslcax9G"
      },
      "execution_count": 14,
      "outputs": [],
      "id": "1H6uqslcax9G"
    },
    {
      "cell_type": "code",
      "source": [
        "transform = transforms.Compose([ transforms.Resize((96, 96)), transforms.ToTensor() ])"
      ],
      "metadata": {
        "id": "85a3hWIMYaDA"
      },
      "execution_count": 15,
      "outputs": [],
      "id": "85a3hWIMYaDA"
    },
    {
      "cell_type": "code",
      "source": [
        "stl10 = datasets.STL10(root=ori_path, split='train', download=True, transform=transform)"
      ],
      "metadata": {
        "id": "eP_h3S7DYD5n"
      },
      "execution_count": null,
      "outputs": [],
      "id": "eP_h3S7DYD5n"
    },
    {
      "cell_type": "code",
      "source": [
        "subset_size = 200"
      ],
      "metadata": {
        "id": "FfEUfd00Z28t"
      },
      "execution_count": 17,
      "outputs": [],
      "id": "FfEUfd00Z28t"
    },
    {
      "cell_type": "code",
      "source": [
        "config = get_config()\n",
        "\n",
        "for i in range(subset_size):\n",
        "    img_tensor = stl10[i][0]\n",
        "    img_pil = transforms.ToPILImage()(img_tensor)\n",
        "\n",
        "\n",
        "    temp_file = os.path.join(ori_path, f\"stl10_{i:03d}.png\")\n",
        "    img_pil.save(temp_file)\n",
        "\n",
        "    #Call simulation\n",
        "    simulated_img = forward_model(temp_file, config)\n",
        "\n",
        "    #Convert output and save to Drive\n",
        "    if isinstance(simulated_img, np.ndarray):\n",
        "        simulated_img = Image.fromarray((simulated_img * 255).astype(np.uint8))\n",
        "\n",
        "    save_file = os.path.join(save_path, f\"qwlsi_sim_{i:03d}.png\")\n",
        "    simulated_img.save(save_file)\n",
        "\n",
        "    if i % 20 == 0:\n",
        "        print(f\"{i+1}/{subset_size} images saved\")\n"
      ],
      "metadata": {
        "id": "nSUmES6JY8ZL"
      },
      "execution_count": null,
      "outputs": [],
      "id": "nSUmES6JY8ZL"
    }
  ],
  "metadata": {
    "language_info": {
      "name": "python"
    },
    "colab": {
      "provenance": [],
      "include_colab_link": true
    },
    "kernelspec": {
      "name": "python3",
      "display_name": "Python 3"
    }
  },
  "nbformat": 4,
  "nbformat_minor": 5
}